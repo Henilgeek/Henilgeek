{
  "nbformat": 4,
  "nbformat_minor": 0,
  "metadata": {
    "colab": {
      "provenance": [],
      "authorship_tag": "ABX9TyPubSSzeJfowIua5uh9lXQR",
      "include_colab_link": true
    },
    "kernelspec": {
      "name": "python3",
      "display_name": "Python 3"
    },
    "language_info": {
      "name": "python"
    }
  },
  "cells": [
    {
      "cell_type": "markdown",
      "metadata": {
        "id": "view-in-github",
        "colab_type": "text"
      },
      "source": [
        "<a href=\"https://colab.research.google.com/github/Henilgeek/Henilgeek/blob/main/lecture_2_if_else%2C_elif_.ipynb\" target=\"_parent\"><img src=\"https://colab.research.google.com/assets/colab-badge.svg\" alt=\"Open In Colab\"/></a>"
      ]
    },
    {
      "cell_type": "code",
      "execution_count": null,
      "metadata": {
        "colab": {
          "base_uri": "https://localhost:8080/"
        },
        "id": "y0oc8cY2d90n",
        "outputId": "660dd867-0597-4382-ce14-da56980570a7"
      },
      "outputs": [
        {
          "output_type": "stream",
          "name": "stdout",
          "text": [
            "eligible\n",
            "apply later\n"
          ]
        }
      ],
      "source": [
        "page=19\n",
        "if(age>18):\n",
        "  print(\"eligible\");\n",
        "else:\n",
        "  print(\"not eligible\");\n",
        "print(\"apply later\");"
      ]
    },
    {
      "cell_type": "code",
      "source": [
        "a=int(input(' number1:'))\n",
        "b=int(input(' number2:'))\n",
        "if(a>b):\n",
        " print(a);\n",
        "else:\n",
        " print(b);"
      ],
      "metadata": {
        "colab": {
          "base_uri": "https://localhost:8080/"
        },
        "id": "c47t9hvUmEMo",
        "outputId": "4d92cfa3-22bf-4cad-8e84-fadeb57f7d85"
      },
      "execution_count": null,
      "outputs": [
        {
          "output_type": "stream",
          "name": "stdout",
          "text": [
            " number1:60\n",
            " number2:70\n",
            "70\n"
          ]
        }
      ]
    },
    {
      "cell_type": "code",
      "source": [
        "a=int(input(' number 1:'))\n",
        "b=int(input(' number 2:'))\n",
        "if(a>b):\n",
        " print(a);\n",
        "elif(b>a):\n",
        " print(b)\n",
        "else:\n",
        " print( \"both are equal\")"
      ],
      "metadata": {
        "colab": {
          "base_uri": "https://localhost:8080/"
        },
        "id": "1U5BFJEkoLdq",
        "outputId": "2976edd1-1c5c-4e93-ab28-b95ed2e06e2a"
      },
      "execution_count": null,
      "outputs": [
        {
          "output_type": "stream",
          "name": "stdout",
          "text": [
            " number 1:40\n",
            " number 2:50\n",
            "50\n"
          ]
        }
      ]
    },
    {
      "cell_type": "code",
      "source": [
        "a=10\n",
        "b='hello'\n",
        "if(a==b):\n",
        " print(\"success\");\n",
        "else:\n",
        " print(\"not success\");"
      ],
      "metadata": {
        "colab": {
          "base_uri": "https://localhost:8080/"
        },
        "id": "tIPVxTYJpLre",
        "outputId": "66ad4d3e-2d22-4494-9b59-d40f068973e7"
      },
      "execution_count": null,
      "outputs": [
        {
          "output_type": "stream",
          "name": "stdout",
          "text": [
            "not success\n"
          ]
        }
      ]
    },
    {
      "cell_type": "code",
      "source": [
        "\n",
        "s1=int(input(\"enter s1=\"))\n",
        "s2=int(input(\"enter s2=\"))\n",
        "s3=int(input(\"enter s3=\"))\n",
        "s4=int(input(\"enter s4=\"))\n",
        "s5=int(input(\"enter s5=\"))\n",
        "per=(s1+s2+s3+s4+s5)/5\n",
        "print(\"per\");\n",
        "if (per<35):\n",
        " print(\"fail\");\n",
        "elif(35<per<40):\n",
        " print(\"pass class\");\n",
        "elif (40<per<60):\n",
        " print(\"second class\");\n",
        "elif (60<per<75):\n",
        " print(\"first class\");\n",
        "elif(per>75):\n",
        " print(\"distinction\");"
      ],
      "metadata": {
        "colab": {
          "base_uri": "https://localhost:8080/"
        },
        "id": "zdgoZCHguCVs",
        "outputId": "119703b3-7775-4513-b7d0-0e541146f1cf"
      },
      "execution_count": null,
      "outputs": [
        {
          "output_type": "stream",
          "name": "stdout",
          "text": [
            "enter s1=44\n",
            "enter s2=88\n",
            "enter s3=31\n",
            "enter s4=44\n",
            "enter s5=66\n",
            "per\n",
            "second class\n"
          ]
        }
      ]
    }
  ]
}
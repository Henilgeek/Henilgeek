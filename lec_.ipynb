{
  "nbformat": 4,
  "nbformat_minor": 0,
  "metadata": {
    "colab": {
      "provenance": [],
      "authorship_tag": "ABX9TyMpPrOksIdTtpxYNS0V/x+3",
      "include_colab_link": true
    },
    "kernelspec": {
      "name": "python3",
      "display_name": "Python 3"
    },
    "language_info": {
      "name": "python"
    }
  },
  "cells": [
    {
      "cell_type": "markdown",
      "metadata": {
        "id": "view-in-github",
        "colab_type": "text"
      },
      "source": [
        "<a href=\"https://colab.research.google.com/github/Henilgeek/Henilgeek/blob/main/lec_.ipynb\" target=\"_parent\"><img src=\"https://colab.research.google.com/assets/colab-badge.svg\" alt=\"Open In Colab\"/></a>"
      ]
    },
    {
      "cell_type": "code",
      "execution_count": null,
      "metadata": {
        "colab": {
          "base_uri": "https://localhost:8080/"
        },
        "id": "OqZhP5v1xCZE",
        "outputId": "a37c8b1a-9378-4f7f-9aa6-76079ad92800"
      },
      "outputs": [
        {
          "output_type": "stream",
          "name": "stdout",
          "text": [
            "no130\n",
            "no260\n",
            "3060\n"
          ]
        }
      ],
      "source": [
        "a=(input(\"no1\"))\n",
        "b=(input(\"no2\"))\n",
        "print(a+b)"
      ]
    },
    {
      "cell_type": "code",
      "source": [
        "a=int(input(\"number 1\"))\n",
        "b=int(input(\"number 2\"))\n",
        "print(a+b)\n",
        "print(a-b)\n",
        "print(a*b)\n",
        "print(a/b)"
      ],
      "metadata": {
        "colab": {
          "base_uri": "https://localhost:8080/"
        },
        "id": "5dMsbkod4L4d",
        "outputId": "d804a95e-c8e4-406f-f8b5-4dbf1fa6e273"
      },
      "execution_count": null,
      "outputs": [
        {
          "output_type": "stream",
          "name": "stdout",
          "text": [
            "number 130\n",
            "number 240\n",
            "70\n",
            "-10\n",
            "1200\n",
            "0.75\n"
          ]
        }
      ]
    }
  ]
}
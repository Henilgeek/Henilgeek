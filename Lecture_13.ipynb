{
  "nbformat": 4,
  "nbformat_minor": 0,
  "metadata": {
    "colab": {
      "provenance": [],
      "authorship_tag": "ABX9TyMbpT6O0wtEfg6b35Q+ImMG",
      "include_colab_link": true
    },
    "kernelspec": {
      "name": "python3",
      "display_name": "Python 3"
    },
    "language_info": {
      "name": "python"
    }
  },
  "cells": [
    {
      "cell_type": "markdown",
      "metadata": {
        "id": "view-in-github",
        "colab_type": "text"
      },
      "source": [
        "<a href=\"https://colab.research.google.com/github/Henilgeek/Henilgeek/blob/main/Lecture_13.ipynb\" target=\"_parent\"><img src=\"https://colab.research.google.com/assets/colab-badge.svg\" alt=\"Open In Colab\"/></a>"
      ]
    },
    {
      "cell_type": "code",
      "source": [
        "fname=(input(\"first name:\"))\n",
        "mname=(input(\"middle name:\"))\n",
        "lname=(input(\"last name:\"))\n",
        "\" \".join([fname,mname,lname])"
      ],
      "metadata": {
        "colab": {
          "base_uri": "https://localhost:8080/",
          "height": 87
        },
        "id": "2y83LXcB_r4H",
        "outputId": "2002b3b5-0332-4c60-fc4f-a254b3d4b948"
      },
      "execution_count": null,
      "outputs": [
        {
          "name": "stdout",
          "output_type": "stream",
          "text": [
            "first name:Henil\n",
            "middle name:Bhavsar\n",
            "last name:Deepak \n"
          ]
        },
        {
          "output_type": "execute_result",
          "data": {
            "text/plain": [
              "'Henil Bhavsar Deepak '"
            ],
            "application/vnd.google.colaboratory.intrinsic+json": {
              "type": "string"
            }
          },
          "metadata": {},
          "execution_count": 7
        }
      ]
    },
    {
      "cell_type": "code",
      "source": [
        "fname=(input(\"first name:\"))\n",
        "mname=(input(\"middle name:\"))\n",
        "lname=(input(\"last name:\"))\n",
        "print(fname,mname,lname)"
      ],
      "metadata": {
        "colab": {
          "base_uri": "https://localhost:8080/"
        },
        "id": "U22Fbg8GCYWO",
        "outputId": "83b90765-9f19-407f-8494-027cd4584a48"
      },
      "execution_count": null,
      "outputs": [
        {
          "output_type": "stream",
          "name": "stdout",
          "text": [
            "first name:Henil\n",
            "middle name:Deepak\n",
            "last name:Bhavsar\n",
            "Henil Deepak Bhavsar\n"
          ]
        }
      ]
    },
    {
      "cell_type": "code",
      "source": [
        "email=input(\"Enter Email:\")\n",
        "if email.endswith(\"com\"):\n",
        " print(\"valid\")\n",
        "elif email.endswith(\"edu\"):\n",
        " print(\"valid\")\n",
        "elif emial.endswith(\"in\"):\n",
        " print(\"valid\")\n",
        "elif email.endswith(\"org\"):\n",
        " print(\"valid\")\n",
        "else:\n",
        " print(\"invalid\")"
      ],
      "metadata": {
        "colab": {
          "base_uri": "https://localhost:8080/"
        },
        "id": "D5XMLrkKCpTi",
        "outputId": "08e3e9d8-905d-46b7-df6b-98b81bd02c3a"
      },
      "execution_count": null,
      "outputs": [
        {
          "output_type": "stream",
          "name": "stdout",
          "text": [
            "Enter Email:henilbhavsar@gmial.com\n",
            "valid\n"
          ]
        }
      ]
    },
    {
      "cell_type": "code",
      "source": [
        "email=input(\"Enter Name: \")\n",
        "if email.endswith(\"com,org,edu\"):\n",
        " print(\"valid\")\n",
        "else:\n",
        " print(\"invalid\")"
      ],
      "metadata": {
        "id": "K1v1IOIeLPXQ"
      },
      "execution_count": null,
      "outputs": []
    }
  ]
}
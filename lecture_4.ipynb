{
  "nbformat": 4,
  "nbformat_minor": 0,
  "metadata": {
    "colab": {
      "provenance": [],
      "authorship_tag": "ABX9TyNHZOYoHuXyj2llPIwwe9Pi",
      "include_colab_link": true
    },
    "kernelspec": {
      "name": "python3",
      "display_name": "Python 3"
    },
    "language_info": {
      "name": "python"
    }
  },
  "cells": [
    {
      "cell_type": "markdown",
      "metadata": {
        "id": "view-in-github",
        "colab_type": "text"
      },
      "source": [
        "<a href=\"https://colab.research.google.com/github/Henilgeek/Henilgeek/blob/main/lecture_4.ipynb\" target=\"_parent\"><img src=\"https://colab.research.google.com/assets/colab-badge.svg\" alt=\"Open In Colab\"/></a>"
      ]
    },
    {
      "cell_type": "code",
      "execution_count": null,
      "metadata": {
        "id": "pGll3tlGhQiJ"
      },
      "outputs": [],
      "source": [
        "age=int(input(\"enter age:\"))\n",
        "if(16<age<18):\n",
        " print(\"eligible for partime\")\n",
        "elif(65<age<18):\n",
        " print(\"eligible for full time\")\n",
        "else:\n",
        " print(\"not eligible\")"
      ]
    },
    {
      "cell_type": "code",
      "source": [
        "\n",
        "\n",
        "\n",
        "\n",
        "a=10\n",
        "b=20\n",
        "print(a)if(a>b)else print(b)if(a<b)else print(\"=\")"
      ],
      "metadata": {
        "colab": {
          "base_uri": "https://localhost:8080/"
        },
        "id": "O3sJV2Qyknm4",
        "outputId": "90feb9ec-13c0-4dda-c737-be57de789e18"
      },
      "execution_count": null,
      "outputs": [
        {
          "output_type": "stream",
          "name": "stdout",
          "text": [
            "20\n"
          ]
        }
      ]
    },
    {
      "cell_type": "code",
      "source": [
        "age=20\n",
        " print(\"eligible for partime\") if(16<age<18) print(\"eligible for full time\")else(65>age>18)else print(\"not eligible\")"
      ],
      "metadata": {
        "colab": {
          "base_uri": "https://localhost:8080/",
          "height": 211
        },
        "id": "k1BfZiuamrHT",
        "outputId": "7ef369af-7a49-496e-bed1-b577b554ede7"
      },
      "execution_count": null,
      "outputs": [
        {
          "output_type": "error",
          "ename": "IndentationError",
          "evalue": "unexpected indent (<ipython-input-16-09c9f8234b06>, line 2)",
          "traceback": [
            "\u001b[0;36m  File \u001b[0;32m\"<ipython-input-16-09c9f8234b06>\"\u001b[0;36m, line \u001b[0;32m2\u001b[0m\n\u001b[0;31m    print(\"eligible for partime\")if(16<age<18) print(\"eligible for full time\")else(65>age>18)else print(\"not eligible\")\u001b[0m\n\u001b[0m    ^\u001b[0m\n\u001b[0;31mIndentationError\u001b[0m\u001b[0;31m:\u001b[0m unexpected indent\n"
          ]
        }
      ]
    },
    {
      "cell_type": "code",
      "source": [
        "\n",
        "age=int(input(\"enter your age\"))\n",
        "print(\"part time\") if age>=16 and age<18 else print(\"full time\") if age>18 and age<=65 else print (\"not eligible \")"
      ],
      "metadata": {
        "colab": {
          "base_uri": "https://localhost:8080/"
        },
        "id": "xcBU4LGApVGc",
        "outputId": "58800ef5-3139-41c5-e4cd-ae3a96f7a886"
      },
      "execution_count": null,
      "outputs": [
        {
          "output_type": "stream",
          "name": "stdout",
          "text": [
            "enter your age17\n",
            "part time\n"
          ]
        }
      ]
    },
    {
      "cell_type": "code",
      "source": [
        "aa=int(input(\"Choice\"))\n",
        "if(a==1):\n",
        " buget=int(input(\"budget\"))\n",
        " if(10000<buget<50000):\n",
        "  print(\"nokai sumsung\")\n",
        " elif(60000<budget<90000):\n",
        "  print(\"msi,hp\")\n",
        " else:\n",
        "  print(\"invalid\")"
      ],
      "metadata": {
        "id": "SjJhrJfMqMZV"
      },
      "execution_count": null,
      "outputs": []
    },
    {
      "cell_type": "code",
      "source": [
        "choice=int(input(\"breakfast,lunch,dinner\"))\n",
        "if(choice==\"breakfast\"):\n",
        " food=int(input(\"south indian or north indian\"))\n",
        "  if(food==\"south indian\"):\n",
        "   choice=int(input(\"Idli or Dosa\")"
      ],
      "metadata": {
        "colab": {
          "base_uri": "https://localhost:8080/",
          "height": 141
        },
        "id": "4leNWTGTx4_G",
        "outputId": "52bcec8b-8319-47da-96d5-d7c8b2be3b25"
      },
      "execution_count": null,
      "outputs": [
        {
          "output_type": "error",
          "ename": "IndentationError",
          "evalue": "unexpected indent (<ipython-input-41-763655026a70>, line 4)",
          "traceback": [
            "\u001b[0;36m  File \u001b[0;32m\"<ipython-input-41-763655026a70>\"\u001b[0;36m, line \u001b[0;32m4\u001b[0m\n\u001b[0;31m    if(food==\"south indian\")\u001b[0m\n\u001b[0m    ^\u001b[0m\n\u001b[0;31mIndentationError\u001b[0m\u001b[0;31m:\u001b[0m unexpected indent\n"
          ]
        }
      ]
    }
  ]
}
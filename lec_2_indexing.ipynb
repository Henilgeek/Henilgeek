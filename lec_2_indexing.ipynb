{
  "nbformat": 4,
  "nbformat_minor": 0,
  "metadata": {
    "colab": {
      "provenance": [],
      "authorship_tag": "ABX9TyP5CjCelKCjAlfjhzCGf3S1",
      "include_colab_link": true
    },
    "kernelspec": {
      "name": "python3",
      "display_name": "Python 3"
    },
    "language_info": {
      "name": "python"
    }
  },
  "cells": [
    {
      "cell_type": "markdown",
      "metadata": {
        "id": "view-in-github",
        "colab_type": "text"
      },
      "source": [
        "<a href=\"https://colab.research.google.com/github/Henilgeek/Henilgeek/blob/main/lec_2_indexing.ipynb\" target=\"_parent\"><img src=\"https://colab.research.google.com/assets/colab-badge.svg\" alt=\"Open In Colab\"/></a>"
      ]
    },
    {
      "cell_type": "code",
      "execution_count": null,
      "metadata": {
        "colab": {
          "base_uri": "https://localhost:8080/"
        },
        "id": "swaiMH4U48GQ",
        "outputId": "24d3c8a6-9951-4fc7-9d98-68b9aa68dbe7"
      },
      "outputs": [
        {
          "output_type": "stream",
          "name": "stdout",
          "text": [
            "number 170\n",
            "number 230\n",
            "100\n",
            "40\n",
            "2100\n",
            "2.3333333333333335\n"
          ]
        }
      ],
      "source": [
        "pa=int(input(\"number 1\"))\n",
        "b=int(input(\"number 2\"))\n",
        "print(a+b)\n",
        "print(a-b)\n",
        "print(a*b)\n",
        "print(a/b)"
      ]
    },
    {
      "cell_type": "code",
      "source": [
        "a=\"hello world\"\n",
        "print(a[0+5])"
      ],
      "metadata": {
        "colab": {
          "base_uri": "https://localhost:8080/"
        },
        "id": "Yhqp074Z7fAP",
        "outputId": "23440124-f40a-44c3-d2d7-47e5d518494e"
      },
      "execution_count": null,
      "outputs": [
        {
          "output_type": "stream",
          "name": "stdout",
          "text": [
            " \n"
          ]
        }
      ]
    },
    {
      "cell_type": "code",
      "source": [
        "greet=\"hello world\"\n",
        "print(greet[1:11:2])"
      ],
      "metadata": {
        "colab": {
          "base_uri": "https://localhost:8080/"
        },
        "id": "KDIzmVu46Vpp",
        "outputId": "9a3eefc2-9d00-4a90-daf1-27fbd92eee97"
      },
      "execution_count": null,
      "outputs": [
        {
          "output_type": "stream",
          "name": "stdout",
          "text": [
            "el ol\n"
          ]
        }
      ]
    },
    {
      "cell_type": "code",
      "source": [
        "greet=\"hello world\"\n",
        "print(\"Z\"+greet[1:6],\"M\"+greet[7:11])"
      ],
      "metadata": {
        "colab": {
          "base_uri": "https://localhost:8080/"
        },
        "id": "fP6Y7zgVAI0R",
        "outputId": "836080bd-9230-482d-aa6d-8c22a8999f71"
      },
      "execution_count": null,
      "outputs": [
        {
          "output_type": "stream",
          "name": "stdout",
          "text": [
            "Zello  Morld\n"
          ]
        }
      ]
    },
    {
      "cell_type": "code",
      "source": [
        "greet=\"hello world\"\n",
        "print(greet[-11:-1])"
      ],
      "metadata": {
        "colab": {
          "base_uri": "https://localhost:8080/"
        },
        "id": "fvgrgNEdBmTA",
        "outputId": "2f50dab2-aedd-43fe-c484-409599ba7707"
      },
      "execution_count": null,
      "outputs": [
        {
          "output_type": "stream",
          "name": "stdout",
          "text": [
            "helloworl\n"
          ]
        }
      ]
    },
    {
      "cell_type": "code",
      "source": [
        "a=2\n",
        "b=3\n",
        "sol=a**2+b**2+2*a*b\n",
        "print(sol)"
      ],
      "metadata": {
        "colab": {
          "base_uri": "https://localhost:8080/"
        },
        "id": "8lWZ1IjvD1_Y",
        "outputId": "b076320e-9fac-4f88-e1a5-ad436426e17a"
      },
      "execution_count": null,
      "outputs": [
        {
          "output_type": "stream",
          "name": "stdout",
          "text": [
            "25\n"
          ]
        }
      ]
    },
    {
      "cell_type": "code",
      "source": [
        "a=2\n",
        "b=3\n",
        "sol(print(a**2)+(b**2)"
      ],
      "metadata": {
        "id": "GvGm3VCkD5pC"
      },
      "execution_count": null,
      "outputs": []
    },
    {
      "cell_type": "code",
      "source": [
        "\n",
        "greet=\"hello world\"\n",
        "print(\"Z\"+greet[-10:-6],\"M\"+greet[-4:])"
      ],
      "metadata": {
        "colab": {
          "base_uri": "https://localhost:8080/"
        },
        "id": "i2j0VGN9CIh5",
        "outputId": "0bf83443-7284-4246-ec4b-fbdb2e900e76"
      },
      "execution_count": null,
      "outputs": [
        {
          "output_type": "stream",
          "name": "stdout",
          "text": [
            "Zello Morld\n"
          ]
        }
      ]
    },
    {
      "cell_type": "code",
      "source": [
        "a=int(input(\"English marks=\"))\n",
        "b=int(input(\"Maths marks=\"))\n",
        "c=int(input(\"Algebra marks=\"))\n",
        "d=int(input(\"geometry marks=\"))\n",
        "e=int(input(\"Hindi marks=\"))\n",
        "print('percentage=',(a+b+c+d+e)/5)"
      ],
      "metadata": {
        "colab": {
          "base_uri": "https://localhost:8080/"
        },
        "id": "ajf7oYOEIQXa",
        "outputId": "8204a84d-0cf5-4d98-f4e5-87a67feaa874"
      },
      "execution_count": null,
      "outputs": [
        {
          "output_type": "stream",
          "name": "stdout",
          "text": [
            "English marks=76\n",
            "Maths marks=77\n",
            "Algebra marks=88\n",
            "geometry marks=57\n",
            "Hindi marks=69\n",
            "percentage= 73.4\n"
          ]
        }
      ]
    }
  ]
}
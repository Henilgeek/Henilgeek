{
  "nbformat": 4,
  "nbformat_minor": 0,
  "metadata": {
    "colab": {
      "provenance": [],
      "authorship_tag": "ABX9TyO8kq9WFQGY6/m2CuDYGhKL",
      "include_colab_link": true
    },
    "kernelspec": {
      "name": "python3",
      "display_name": "Python 3"
    },
    "language_info": {
      "name": "python"
    }
  },
  "cells": [
    {
      "cell_type": "markdown",
      "metadata": {
        "id": "view-in-github",
        "colab_type": "text"
      },
      "source": [
        "<a href=\"https://colab.research.google.com/github/Henilgeek/Henilgeek/blob/main/Untitled7.ipynb\" target=\"_parent\"><img src=\"https://colab.research.google.com/assets/colab-badge.svg\" alt=\"Open In Colab\"/></a>"
      ]
    },
    {
      "cell_type": "code",
      "source": [
        "def max(a,b):\n",
        " if x > y:\n",
        "  print(a)\n",
        " else:\n",
        "  print(b)\n",
        "x,y,z=10,20,30\n",
        "print(max(x,max(y,z)))"
      ],
      "metadata": {
        "colab": {
          "base_uri": "https://localhost:8080/"
        },
        "id": "x0JKUUc5cbM9",
        "outputId": "db2d94cb-8bd8-4c02-ba1c-80d42f0b2eab"
      },
      "execution_count": null,
      "outputs": [
        {
          "output_type": "stream",
          "name": "stdout",
          "text": [
            "30\n",
            "None\n",
            "None\n"
          ]
        }
      ]
    },
    {
      "cell_type": "code",
      "source": [
        "def add(a,b):\n",
        " return a+b\n",
        "x=add(10,add(20,30))\n",
        "add(20,x)"
      ],
      "metadata": {
        "colab": {
          "base_uri": "https://localhost:8080/"
        },
        "id": "5Rmi65y9kHBr",
        "outputId": "03c5f8da-30c7-4849-d821-155b443b6282"
      },
      "execution_count": null,
      "outputs": [
        {
          "output_type": "execute_result",
          "data": {
            "text/plain": [
              "80"
            ]
          },
          "metadata": {},
          "execution_count": 56
        }
      ]
    },
    {
      "cell_type": "code",
      "source": [
        "def max(x,y,z):\n",
        "if x > y:\n",
        " print(x)\n",
        " if x > z:\n",
        " print(x)\n",
        "elif y > x:\n",
        " print"
      ],
      "metadata": {
        "id": "4o9GT2w1e4dI"
      },
      "execution_count": null,
      "outputs": []
    },
    {
      "cell_type": "code",
      "execution_count": null,
      "metadata": {
        "colab": {
          "base_uri": "https://localhost:8080/"
        },
        "id": "9bzKqLiAPvLq",
        "outputId": "278b54d7-d5ef-4231-8882-da7c916f3857"
      },
      "outputs": [
        {
          "output_type": "stream",
          "name": "stdout",
          "text": [
            "Enter\n",
            "1: add\n",
            "2: sub \n",
            "3: mul\n",
            "4: div\n",
            "1\n",
            "1=3\n",
            "2=4\n",
            "answer is  7\n"
          ]
        }
      ],
      "source": [
        "def add(a,b):\n",
        " return a+b\n",
        "def sub(a,b):\n",
        " return a-b\n",
        "def mul(a,b):\n",
        " return a*b\n",
        "def div(a,b):\n",
        " return a/b\n",
        "c=int(input('''Enter\n",
        "1: add\n",
        "2: sub\n",
        "3: mul\n",
        "4: div\n",
        "'''))\n",
        "no1=int(input(\"1=\"))\n",
        "no2=int(input(\"2=\"))\n",
        "if c==1:\n",
        "   sum=add(no1,no2)\n",
        "   print(\"answer is \",sum)\n",
        "elif c==2:\n",
        "   sub=(no1,no2)\n",
        "   print(\"answer is \",sub)\n",
        "elif c==3:\n",
        "   product=mul(no1,no2)\n",
        "   print(\"answer is\",product)\n",
        "elif c==4:\n",
        "   division=div(no1,no2)\n",
        "   print(\"answer is\",division)\n",
        "else:\n",
        "  print(\"invalid\")"
      ]
    }
  ]
}